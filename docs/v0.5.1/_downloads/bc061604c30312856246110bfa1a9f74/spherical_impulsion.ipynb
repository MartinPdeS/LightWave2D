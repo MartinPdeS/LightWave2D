{
  "cells": [
    {
      "cell_type": "markdown",
      "metadata": {},
      "source": [
        "\n# Circular Scatterer\n\nThis example demonstrates the setup and execution of a circular scatterer experiment using LightWave2D.\nWe will define the simulation grid, add a circular scatterer and a line source, apply a perfectly matched layer (PML), run the simulation, and visualize the results.\n"
      ]
    },
    {
      "cell_type": "markdown",
      "metadata": {},
      "source": [
        "Importing the necessary packages\n\n"
      ]
    },
    {
      "cell_type": "code",
      "execution_count": null,
      "metadata": {
        "collapsed": false
      },
      "outputs": [],
      "source": [
        "from TypedUnit import ureg\nfrom MPSPlots import colormaps\n\nfrom LightWave2D.grid import Grid\nfrom LightWave2D.experiment import Experiment"
      ]
    },
    {
      "cell_type": "markdown",
      "metadata": {},
      "source": [
        "Define the simulation grid\n\n"
      ]
    },
    {
      "cell_type": "code",
      "execution_count": null,
      "metadata": {
        "collapsed": false
      },
      "outputs": [],
      "source": [
        "grid = Grid(\n    resolution=0.2 * ureg.micrometer,\n    size_x=52 * ureg.micrometer,\n    size_y=40 * ureg.micrometer,\n    n_steps=800\n)\n\n# Initialize the experiment with the defined grid\nexperiment = Experiment(grid=grid)"
      ]
    },
    {
      "cell_type": "markdown",
      "metadata": {},
      "source": [
        "Add a circular scatterer to the experiment\n\n"
      ]
    },
    {
      "cell_type": "code",
      "execution_count": null,
      "metadata": {
        "collapsed": false
      },
      "outputs": [],
      "source": [
        "scatterer = experiment.add_circle(\n    position=('50%', '50%'),  # Center position of the scatterer\n    epsilon_r=2.5,            # Relative permittivity of the scatterer\n    radius=4 * ureg.micrometer,\n    sigma=0 * (ureg.siemens / ureg.meter)  # Conductivity of the scatterer\n)"
      ]
    },
    {
      "cell_type": "markdown",
      "metadata": {},
      "source": [
        "Add a line source to the experiment\n\n"
      ]
    },
    {
      "cell_type": "code",
      "execution_count": null,
      "metadata": {
        "collapsed": false
      },
      "outputs": [],
      "source": [
        "source = experiment.add_line_impulsion(\n    duration=1 * ureg.femtosecond,\n    position_0=('30%', '60%'),  # Starting position of the source\n    position_1=('30%', '40%'),  # Ending position of the source\n    amplitude=1,                # Amplitude of the source\n    delay=0 * ureg.femtosecond\n)"
      ]
    },
    {
      "cell_type": "markdown",
      "metadata": {},
      "source": [
        "Add a perfectly matched layer (PML) to absorb boundary reflections\n\n"
      ]
    },
    {
      "cell_type": "code",
      "execution_count": null,
      "metadata": {
        "collapsed": false
      },
      "outputs": [],
      "source": [
        "experiment.add_pml(\n    order=1,          # Order of the PML polynomial profile\n    width='20%',      # Width of the PML region as a percentage of grid size\n    sigma_max=10_000 * (ureg.siemens / ureg.meter)    # Maximum conductivity for the PML\n)"
      ]
    },
    {
      "cell_type": "markdown",
      "metadata": {},
      "source": [
        "Plot the entire experiment setup\n\n"
      ]
    },
    {
      "cell_type": "code",
      "execution_count": null,
      "metadata": {
        "collapsed": false
      },
      "outputs": [],
      "source": [
        "experiment.plot()\n\n# Run the FDTD simulation\nexperiment.run()"
      ]
    },
    {
      "cell_type": "markdown",
      "metadata": {},
      "source": [
        "Render an animation of the field propagation over time\n\n"
      ]
    },
    {
      "cell_type": "code",
      "execution_count": null,
      "metadata": {
        "collapsed": false
      },
      "outputs": [],
      "source": [
        "animation = experiment.render_propagation(\n    skip_frame=5,                                     # Number of frames to skip in the animation\n    colormap=colormaps.polytechnique.red_black_blue,  # Colormap for the animation\n    enhance_contrast=4,                               # Enhance contrast for better visualization\n    save_as='./circular_scatterer_propagation.gif',   # Save the animation as a GIF file\n    fps=30\n)"
      ]
    }
  ],
  "metadata": {
    "kernelspec": {
      "display_name": "Python 3",
      "language": "python",
      "name": "python3"
    },
    "language_info": {
      "codemirror_mode": {
        "name": "ipython",
        "version": 3
      },
      "file_extension": ".py",
      "mimetype": "text/x-python",
      "name": "python",
      "nbconvert_exporter": "python",
      "pygments_lexer": "ipython3",
      "version": "3.11.13"
    }
  },
  "nbformat": 4,
  "nbformat_minor": 0
}