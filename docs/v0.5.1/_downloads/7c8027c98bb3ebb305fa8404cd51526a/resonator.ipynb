{
  "cells": [
    {
      "cell_type": "markdown",
      "metadata": {},
      "source": [
        "\n# Ring Resonator\n\nThis example demonstrates the setup and execution of a ring resonator experiment using LightWave2D.\nWe will define the simulation grid, add a ring resonator scatterer, a point source, apply a perfectly matched layer (PML), run the simulation, and visualize the results.\n"
      ]
    },
    {
      "cell_type": "markdown",
      "metadata": {},
      "source": [
        "Importing the necessary packages\n\n"
      ]
    },
    {
      "cell_type": "code",
      "execution_count": null,
      "metadata": {
        "collapsed": false
      },
      "outputs": [],
      "source": [
        "from TypedUnit import ureg\nfrom MPSPlots.colormaps import polytechnique\n\nfrom LightWave2D.grid import Grid\nfrom LightWave2D.experiment import Experiment"
      ]
    },
    {
      "cell_type": "markdown",
      "metadata": {},
      "source": [
        "Define the simulation grid\n\n"
      ]
    },
    {
      "cell_type": "code",
      "execution_count": null,
      "metadata": {
        "collapsed": false
      },
      "outputs": [],
      "source": [
        "grid = Grid(\n    resolution=0.1 * ureg.micrometer,  # Grid resolution in meters\n    size_x=50 * ureg.micrometer,  # Grid size in the x direction in meters\n    size_y=30 * ureg.micrometer,  # Grid size in the y direction in meters\n    n_steps=200,  # Number of time steps for the simulation\n)\n\n# Initialize the experiment with the defined grid\nexperiment = Experiment(grid=grid)"
      ]
    },
    {
      "cell_type": "markdown",
      "metadata": {},
      "source": [
        "Add a ring resonator scatterer to the experiment\n\n"
      ]
    },
    {
      "cell_type": "code",
      "execution_count": null,
      "metadata": {
        "collapsed": false
      },
      "outputs": [],
      "source": [
        "ring_resonator = experiment.add_ring_resonator(\n    position=(\"50%\", \"49%\"),  # Center position of the ring resonator\n    epsilon_r=2.0,  # Relative permittivity of the ring resonator\n    inner_radius=4 * ureg.micrometer,  # Inner radius of the ring resonator in meters\n    width=2 * ureg.micrometer,  # Width of the ring resonator in meters\n)"
      ]
    },
    {
      "cell_type": "markdown",
      "metadata": {},
      "source": [
        "Add a waveguide to the experiment\n\n"
      ]
    },
    {
      "cell_type": "code",
      "execution_count": null,
      "metadata": {
        "collapsed": false
      },
      "outputs": [],
      "source": [
        "ring_resonator = experiment.add_waveguide(\n    position_0=(\"0%\", \"25%\"),  # Center position of the ring resonator\n    position_1=(\"100%\", \"25%\"),  # Center position of the ring resonator\n    epsilon_r=2,  # Relative permittivity of the ring resonator\n    width=2 * ureg.micrometer,  # Width of the ring resonator in meters\n)"
      ]
    },
    {
      "cell_type": "markdown",
      "metadata": {},
      "source": [
        "Add a point source to the experiment\n\n"
      ]
    },
    {
      "cell_type": "code",
      "execution_count": null,
      "metadata": {
        "collapsed": false
      },
      "outputs": [],
      "source": [
        "source = experiment.add_line_source(\n    wavelength=2110 * ureg.nanometer,  # Wavelength of the source in meters\n    position_0=(\"10%\", \"23%\"),  # Center position of the ring resonator\n    position_1=(\"10%\", \"27%\"),  # Center position of the ring resonator\n    amplitude=100,  # Amplitude of the source\n)"
      ]
    },
    {
      "cell_type": "markdown",
      "metadata": {},
      "source": [
        "Add a perfectly matched layer (PML) to absorb boundary reflections\n\n"
      ]
    },
    {
      "cell_type": "code",
      "execution_count": null,
      "metadata": {
        "collapsed": false
      },
      "outputs": [],
      "source": [
        "pml = experiment.add_pml(\n    order=1,  # Order of the PML polynomial profile\n    width=\"10%\",  # Width of the PML region as a percentage of grid size\n    sigma_max=5000 * ureg.siemens / ureg.meter,  # Maximum conductivity for the PML\n)"
      ]
    },
    {
      "cell_type": "markdown",
      "metadata": {},
      "source": [
        "Plot the experiment layout\n\n"
      ]
    },
    {
      "cell_type": "code",
      "execution_count": null,
      "metadata": {
        "collapsed": false
      },
      "outputs": [],
      "source": [
        "experiment.plot()\n\n\n# Run the FDTD simulation\nexperiment.run()"
      ]
    },
    {
      "cell_type": "markdown",
      "metadata": {},
      "source": [
        "Plot the last time frame of the computed fields\n\n"
      ]
    },
    {
      "cell_type": "code",
      "execution_count": null,
      "metadata": {
        "collapsed": false
      },
      "outputs": [],
      "source": [
        "experiment.plot_frame(\n    frame_number=-1,  # Plot the last frame\n    enhance_contrast=2,  # Maximum scale for the field visualization\n)"
      ]
    },
    {
      "cell_type": "markdown",
      "metadata": {},
      "source": [
        "Render an animation of the field propagation over time\n\n"
      ]
    },
    {
      "cell_type": "code",
      "execution_count": null,
      "metadata": {
        "collapsed": false
      },
      "outputs": [],
      "source": [
        "animation = experiment.render_propagation(\n    skip_frame=5,  # Number of frames to skip in the animation\n    colormap=polytechnique.red_black_blue,  # Colormap for the animation\n    enhance_contrast=4,  # Enhance contrast for better visualization\n    save_as=\"./resonator.gif\",  # Save the animation as a GIF file\n    fps=30,\n)"
      ]
    }
  ],
  "metadata": {
    "kernelspec": {
      "display_name": "Python 3",
      "language": "python",
      "name": "python3"
    },
    "language_info": {
      "codemirror_mode": {
        "name": "ipython",
        "version": 3
      },
      "file_extension": ".py",
      "mimetype": "text/x-python",
      "name": "python",
      "nbconvert_exporter": "python",
      "pygments_lexer": "ipython3",
      "version": "3.11.14"
    }
  },
  "nbformat": 4,
  "nbformat_minor": 0
}