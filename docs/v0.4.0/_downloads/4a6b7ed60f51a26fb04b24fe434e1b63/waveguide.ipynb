{
  "cells": [
    {
      "cell_type": "markdown",
      "metadata": {},
      "source": [
        "\n# Waveguide\n\nThis example demonstrates the setup and execution of a waveguide experiment using LightWave2D.\nWe will define the simulation grid, add a waveguide and a line source, apply a perfectly matched layer (PML), run the simulation, and visualize the results.\n"
      ]
    },
    {
      "cell_type": "markdown",
      "metadata": {},
      "source": [
        "Importing the necessary packages\n\n"
      ]
    },
    {
      "cell_type": "code",
      "execution_count": null,
      "metadata": {
        "collapsed": false
      },
      "outputs": [],
      "source": [
        "from LightWave2D.grid import Grid\nfrom LightWave2D.experiment import Experiment\nfrom MPSPlots import colormaps\nfrom LightWave2D import units"
      ]
    },
    {
      "cell_type": "markdown",
      "metadata": {},
      "source": [
        "Define the simulation grid\n\n"
      ]
    },
    {
      "cell_type": "code",
      "execution_count": null,
      "metadata": {
        "collapsed": false
      },
      "outputs": [],
      "source": [
        "grid = Grid(\n    resolution=0.1 * units.micrometer,  # Grid resolution in meters\n    size_x=50 * units.micrometer,       # Grid size in the x direction in meters\n    size_y=15 * units.micrometer,       # Grid size in the y direction in meters\n    n_steps=100                          # Number of time steps for the simulation\n)\n\n# Initialize the experiment with the defined grid\nexperiment = Experiment(grid=grid)"
      ]
    },
    {
      "cell_type": "markdown",
      "metadata": {},
      "source": [
        "Add a waveguide to the experiment\n\n"
      ]
    },
    {
      "cell_type": "code",
      "execution_count": null,
      "metadata": {
        "collapsed": false
      },
      "outputs": [],
      "source": [
        "scatterer = experiment.add_waveguide(\n    position_0=('0%', '50%'),    # Starting position of the waveguide\n    position_1=('100%', '50%'),  # Ending position of the waveguide\n    width=2 * units.micrometer,  # Width of the waveguide in meters\n    epsilon_r=2                  # Relative permittivity of the waveguide\n)\n\n# Add a line source to the experiment\nsource = experiment.add_line_source(\n    wavelength=1550 * units.nanometer,         # Wavelength of the source in meters\n    position_0=('20%', '45%'),  # Starting position of the source\n    position_1=('20%', '55%'),  # Ending position of the source\n    amplitude=10                # Amplitude of the source\n)"
      ]
    },
    {
      "cell_type": "markdown",
      "metadata": {},
      "source": [
        "Add a perfectly matched layer (PML) to absorb boundary reflections\n\n"
      ]
    },
    {
      "cell_type": "code",
      "execution_count": null,
      "metadata": {
        "collapsed": false
      },
      "outputs": [],
      "source": [
        "experiment.add_pml(\n    order=1,          # Order of the PML polynomial profile\n    width='10%',      # Width of the PML region as a percentage of grid size\n    sigma_max=5000 * (units.siemens / units.meter)    # Maximum conductivity for the PML\n)"
      ]
    },
    {
      "cell_type": "markdown",
      "metadata": {},
      "source": [
        "Run the FDTD simulation\n\n"
      ]
    },
    {
      "cell_type": "code",
      "execution_count": null,
      "metadata": {
        "collapsed": false
      },
      "outputs": [],
      "source": [
        "experiment.run()"
      ]
    },
    {
      "cell_type": "markdown",
      "metadata": {},
      "source": [
        "Plot the experiment layout\n\n"
      ]
    },
    {
      "cell_type": "code",
      "execution_count": null,
      "metadata": {
        "collapsed": false
      },
      "outputs": [],
      "source": [
        "experiment.plot()"
      ]
    },
    {
      "cell_type": "markdown",
      "metadata": {},
      "source": [
        "Plot the resulting electric field distribution at a certain time\n\n"
      ]
    },
    {
      "cell_type": "code",
      "execution_count": null,
      "metadata": {
        "collapsed": false
      },
      "outputs": [],
      "source": [
        "experiment.plot_frame(frame_number=-1)"
      ]
    },
    {
      "cell_type": "markdown",
      "metadata": {},
      "source": [
        "Render an animation of the wave propagation\n\n"
      ]
    },
    {
      "cell_type": "code",
      "execution_count": null,
      "metadata": {
        "collapsed": false
      },
      "outputs": [],
      "source": [
        "animation = experiment.render_propagation(\n    skip_frame=10,                            # Number of frames to skip in the animation\n    colormap=colormaps.polytechnique.red_black_blue,  # Colormap for the animation\n    enhance_contrast=2                               # Maximum scale for the field visualization\n)\n\n# Save the animation as a GIF file\n_ = animation.save('./waveguide_propagation.gif', writer='Pillow', fps=20)"
      ]
    }
  ],
  "metadata": {
    "kernelspec": {
      "display_name": "Python 3",
      "language": "python",
      "name": "python3"
    },
    "language_info": {
      "codemirror_mode": {
        "name": "ipython",
        "version": 3
      },
      "file_extension": ".py",
      "mimetype": "text/x-python",
      "name": "python",
      "nbconvert_exporter": "python",
      "pygments_lexer": "ipython3",
      "version": "3.11.13"
    }
  },
  "nbformat": 4,
  "nbformat_minor": 0
}