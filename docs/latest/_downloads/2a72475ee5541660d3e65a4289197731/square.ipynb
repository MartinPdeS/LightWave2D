{
  "cells": [
    {
      "cell_type": "markdown",
      "metadata": {},
      "source": [
        "\n# Square Scatterer\n\nThis example demonstrates the setup and execution of a square scatterer experiment using LightWave2D.\nWe will define the simulation grid, add a square scatterer and a line source, apply a perfectly matched layer (PML), run the simulation, and visualize the results.\n"
      ]
    },
    {
      "cell_type": "markdown",
      "metadata": {},
      "source": [
        "Importing the necessary packages\n\n"
      ]
    },
    {
      "cell_type": "code",
      "execution_count": null,
      "metadata": {
        "collapsed": false
      },
      "outputs": [],
      "source": [
        "from TypedUnit import ureg\nfrom MPSPlots.colormaps import polytechnique\n\nfrom LightWave2D.grid import Grid\nfrom LightWave2D.experiment import Experiment"
      ]
    },
    {
      "cell_type": "markdown",
      "metadata": {},
      "source": [
        "Define the simulation grid\n\n"
      ]
    },
    {
      "cell_type": "code",
      "execution_count": null,
      "metadata": {
        "collapsed": false
      },
      "outputs": [],
      "source": [
        "grid = Grid(\n    resolution=0.1 * ureg.micrometer,  # Grid resolution\n    size_x=32 * ureg.micrometer,  # Grid size in the x direction\n    size_y=16 * ureg.micrometer,  # Grid size in the y direction\n    n_steps=500,\n)\n\n# Initialize the experiment with the defined grid\nexperiment = Experiment(grid=grid)"
      ]
    },
    {
      "cell_type": "markdown",
      "metadata": {},
      "source": [
        "Add a square scatterer to the experiment\n\n"
      ]
    },
    {
      "cell_type": "code",
      "execution_count": null,
      "metadata": {
        "collapsed": false
      },
      "outputs": [],
      "source": [
        "scatterer = experiment.add_square(\n    position=(\"25%\", \"50%\"),  # Center position of the scatterer\n    epsilon_r=2,  # Relative permittivity of the scatterer\n    side_length=5 * ureg.micrometer,  # Side length of the square scatterer\n)"
      ]
    },
    {
      "cell_type": "markdown",
      "metadata": {},
      "source": [
        "Add a line source to the experiment\n\n"
      ]
    },
    {
      "cell_type": "code",
      "execution_count": null,
      "metadata": {
        "collapsed": false
      },
      "outputs": [],
      "source": [
        "source = experiment.add_line_source(\n    wavelength=1550 * ureg.nanometer,  # Wavelength of the source\n    position_0=(\"10%\", \"100%\"),  # Starting position of the source\n    position_1=(\"10%\", \"0%\"),  # Ending position of the source\n    amplitude=10,  # Amplitude of the source\n)"
      ]
    },
    {
      "cell_type": "markdown",
      "metadata": {},
      "source": [
        "Add a perfectly matched layer (PML) to absorb boundary reflections\n\n"
      ]
    },
    {
      "cell_type": "code",
      "execution_count": null,
      "metadata": {
        "collapsed": false
      },
      "outputs": [],
      "source": [
        "experiment.add_pml(\n    order=1,  # Order of the PML polynomial profile\n    width=\"10%\",  # Width of the PML region as a percentage of grid size\n    sigma_max=5000 * ureg.siemens / ureg.meter,  # Maximum conductivity for the PML\n)"
      ]
    },
    {
      "cell_type": "markdown",
      "metadata": {},
      "source": [
        "Add a point detector to the experiment\n\n"
      ]
    },
    {
      "cell_type": "code",
      "execution_count": null,
      "metadata": {
        "collapsed": false
      },
      "outputs": [],
      "source": [
        "detector = experiment.add_point_detector(\n    position=(25 * ureg.micrometer, \"center\")  # Position of the detector\n)"
      ]
    },
    {
      "cell_type": "markdown",
      "metadata": {},
      "source": [
        "Plot the entire experiment setup\n\n"
      ]
    },
    {
      "cell_type": "code",
      "execution_count": null,
      "metadata": {
        "collapsed": false
      },
      "outputs": [],
      "source": [
        "experiment.plot()\n\n# Run the FDTD simulation\nexperiment.run()"
      ]
    },
    {
      "cell_type": "markdown",
      "metadata": {},
      "source": [
        "Plot the field measured at the detector\n\n"
      ]
    },
    {
      "cell_type": "code",
      "execution_count": null,
      "metadata": {
        "collapsed": false
      },
      "outputs": [],
      "source": [
        "detector.plot_data()"
      ]
    },
    {
      "cell_type": "markdown",
      "metadata": {},
      "source": [
        "Plot the last time frame of the computed fields\n\n"
      ]
    },
    {
      "cell_type": "code",
      "execution_count": null,
      "metadata": {
        "collapsed": false
      },
      "outputs": [],
      "source": [
        "experiment.plot_frame(\n    frame_number=-1,  # Plot the last frame\n    enhance_contrast=2,  # Maximum scale for the field visualization\n)"
      ]
    },
    {
      "cell_type": "markdown",
      "metadata": {},
      "source": [
        "Render an animation of the field propagation over time\n\n"
      ]
    },
    {
      "cell_type": "code",
      "execution_count": null,
      "metadata": {
        "collapsed": false
      },
      "outputs": [],
      "source": [
        "animation = experiment.render_propagation(\n    skip_frame=5,  # Number of frames to skip in the animation\n    colormap=polytechnique.red_black_blue,  # Colormap for the animation\n    enhance_contrast=4,  # Enhance contrast for better visualization\n    save_as=\"./square_scatterer.gif\",  # Save the animation as a GIF file\n    fps=30,\n)"
      ]
    }
  ],
  "metadata": {
    "kernelspec": {
      "display_name": "Python 3",
      "language": "python",
      "name": "python3"
    },
    "language_info": {
      "codemirror_mode": {
        "name": "ipython",
        "version": 3
      },
      "file_extension": ".py",
      "mimetype": "text/x-python",
      "name": "python",
      "nbconvert_exporter": "python",
      "pygments_lexer": "ipython3",
      "version": "3.11.14"
    }
  },
  "nbformat": 4,
  "nbformat_minor": 0
}