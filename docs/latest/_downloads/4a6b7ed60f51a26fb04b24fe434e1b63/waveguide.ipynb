{
  "cells": [
    {
      "cell_type": "markdown",
      "metadata": {},
      "source": [
        "\n# Waveguide\n\nThis example demonstrates the setup and execution of a waveguide experiment using LightWave2D.\nWe will define the simulation grid, add a waveguide and a line source, apply a perfectly matched layer (PML), run the simulation, and visualize the results.\n"
      ]
    },
    {
      "cell_type": "markdown",
      "metadata": {},
      "source": [
        "Importing the necessary packages\n\n"
      ]
    },
    {
      "cell_type": "code",
      "execution_count": null,
      "metadata": {
        "collapsed": false
      },
      "outputs": [],
      "source": [
        "from TypedUnit import ureg\nfrom MPSPlots import colormaps\n\nfrom LightWave2D.grid import Grid\nfrom LightWave2D.experiment import Experiment"
      ]
    },
    {
      "cell_type": "markdown",
      "metadata": {},
      "source": [
        "Define the simulation grid\n\n"
      ]
    },
    {
      "cell_type": "code",
      "execution_count": null,
      "metadata": {
        "collapsed": false
      },
      "outputs": [],
      "source": [
        "grid = Grid(\n    resolution=0.1 * ureg.micrometer,  # Grid resolution in meters\n    size_x=50 * ureg.micrometer,  # Grid size in the x direction in meters\n    size_y=15 * ureg.micrometer,  # Grid size in the y direction in meters\n    n_steps=100,  # Number of time steps for the simulation\n)\n\n# Initialize the experiment with the defined grid\nexperiment = Experiment(grid=grid)"
      ]
    },
    {
      "cell_type": "markdown",
      "metadata": {},
      "source": [
        "Add a waveguide to the experiment\n\n"
      ]
    },
    {
      "cell_type": "code",
      "execution_count": null,
      "metadata": {
        "collapsed": false
      },
      "outputs": [],
      "source": [
        "scatterer = experiment.add_waveguide(\n    position_0=(\"0%\", \"50%\"),  # Starting position of the waveguide\n    position_1=(\"100%\", \"50%\"),  # Ending position of the waveguide\n    width=2 * ureg.micrometer,  # Width of the waveguide in meters\n    epsilon_r=2,  # Relative permittivity of the waveguide\n)\n\n# Add a line source to the experiment\nsource = experiment.add_line_source(\n    wavelength=1550 * ureg.nanometer,  # Wavelength of the source in meters\n    position_0=(\"20%\", \"45%\"),  # Starting position of the source\n    position_1=(\"20%\", \"55%\"),  # Ending position of the source\n    amplitude=10,  # Amplitude of the source\n)"
      ]
    },
    {
      "cell_type": "markdown",
      "metadata": {},
      "source": [
        "Add a perfectly matched layer (PML) to absorb boundary reflections\n\n"
      ]
    },
    {
      "cell_type": "code",
      "execution_count": null,
      "metadata": {
        "collapsed": false
      },
      "outputs": [],
      "source": [
        "experiment.add_pml(\n    order=1,  # Order of the PML polynomial profile\n    width=\"10%\",  # Width of the PML region as a percentage of grid size\n    sigma_max=5000 * (ureg.siemens / ureg.meter),  # Maximum conductivity for the PML\n)"
      ]
    },
    {
      "cell_type": "markdown",
      "metadata": {},
      "source": [
        "Run the FDTD simulation\n\n"
      ]
    },
    {
      "cell_type": "code",
      "execution_count": null,
      "metadata": {
        "collapsed": false
      },
      "outputs": [],
      "source": [
        "experiment.run()"
      ]
    },
    {
      "cell_type": "markdown",
      "metadata": {},
      "source": [
        "Plot the experiment layout\n\n"
      ]
    },
    {
      "cell_type": "code",
      "execution_count": null,
      "metadata": {
        "collapsed": false
      },
      "outputs": [],
      "source": [
        "experiment.plot()"
      ]
    },
    {
      "cell_type": "markdown",
      "metadata": {},
      "source": [
        "Plot the resulting electric field distribution at a certain time\n\n"
      ]
    },
    {
      "cell_type": "code",
      "execution_count": null,
      "metadata": {
        "collapsed": false
      },
      "outputs": [],
      "source": [
        "experiment.plot_frame(frame_number=-1)"
      ]
    },
    {
      "cell_type": "markdown",
      "metadata": {},
      "source": [
        "Render an animation of the wave propagation\n\n"
      ]
    },
    {
      "cell_type": "code",
      "execution_count": null,
      "metadata": {
        "collapsed": false
      },
      "outputs": [],
      "source": [
        "animation = experiment.render_propagation(\n    skip_frame=5,  # Number of frames to skip in the animation\n    colormap=colormaps.polytechnique.red_black_blue,  # Colormap for the animation\n    enhance_contrast=4,  # Enhance contrast for better visualization\n    save_as=\"./waveguide.gif\",  # Save the animation as a GIF file\n    fps=30,\n)"
      ]
    }
  ],
  "metadata": {
    "kernelspec": {
      "display_name": "Python 3",
      "language": "python",
      "name": "python3"
    },
    "language_info": {
      "codemirror_mode": {
        "name": "ipython",
        "version": 3
      },
      "file_extension": ".py",
      "mimetype": "text/x-python",
      "name": "python",
      "nbconvert_exporter": "python",
      "pygments_lexer": "ipython3",
      "version": "3.11.13"
    }
  },
  "nbformat": 4,
  "nbformat_minor": 0
}