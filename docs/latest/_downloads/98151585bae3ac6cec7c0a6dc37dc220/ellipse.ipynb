{
  "cells": [
    {
      "cell_type": "markdown",
      "metadata": {},
      "source": [
        "\n# Elliptic Scatterer\n\nThis example demonstrates the setup and execution of an elliptic scatterer experiment using LightWave2D.\nWe will define the simulation grid, add an elliptic scatterer and a line source, apply a perfectly matched layer (PML), run the simulation, and visualize the results.\n"
      ]
    },
    {
      "cell_type": "markdown",
      "metadata": {},
      "source": [
        "Importing the necessary packages\n\n"
      ]
    },
    {
      "cell_type": "code",
      "execution_count": null,
      "metadata": {
        "collapsed": false
      },
      "outputs": [],
      "source": [
        "from LightWave2D.grid import Grid\nfrom LightWave2D.experiment import Experiment\nfrom MPSPlots import colormaps"
      ]
    },
    {
      "cell_type": "markdown",
      "metadata": {},
      "source": [
        "Define the simulation grid\n\n"
      ]
    },
    {
      "cell_type": "code",
      "execution_count": null,
      "metadata": {
        "collapsed": false
      },
      "outputs": [],
      "source": [
        "grid = Grid(\n    resolution=0.1e-6,  # Grid resolution in meters\n    size_x=40e-6,       # Grid size in the x direction in meters\n    size_y=30e-6,       # Grid size in the y direction in meters\n    n_steps=100        # Number of time steps for the simulation\n)\n\n# Initialize the experiment with the defined grid\nexperiment = Experiment(grid=grid)"
      ]
    },
    {
      "cell_type": "markdown",
      "metadata": {},
      "source": [
        "Add an elliptic scatterer to the experiment\n\n"
      ]
    },
    {
      "cell_type": "code",
      "execution_count": null,
      "metadata": {
        "collapsed": false
      },
      "outputs": [],
      "source": [
        "scatterer = experiment.add_ellipse(\n    position=('30%', '40%'),  # Center position of the ellipse\n    width=4e-6,               # Width of the ellipse in meters\n    height=10e-6,             # Height of the ellipse in meters\n    epsilon_r=2               # Relative permittivity of the ellipse\n)"
      ]
    },
    {
      "cell_type": "markdown",
      "metadata": {},
      "source": [
        "Add a line source to the experiment\n\n"
      ]
    },
    {
      "cell_type": "code",
      "execution_count": null,
      "metadata": {
        "collapsed": false
      },
      "outputs": [],
      "source": [
        "source = experiment.add_line_source(\n    wavelength=1550e-9,       # Wavelength of the source in meters\n    position_0=('10%', '100%'),  # Starting position of the source\n    position_1=('10%', '0%'),    # Ending position of the source\n    amplitude=10              # Amplitude of the source\n)"
      ]
    },
    {
      "cell_type": "markdown",
      "metadata": {},
      "source": [
        "Add a perfectly matched layer (PML) to absorb boundary reflections\n\n"
      ]
    },
    {
      "cell_type": "code",
      "execution_count": null,
      "metadata": {
        "collapsed": false
      },
      "outputs": [],
      "source": [
        "experiment.add_pml(\n    order=1,          # Order of the PML polynomial profile\n    width='10%',      # Width of the PML region as a percentage of grid size\n    sigma_max=5000    # Maximum conductivity for the PML\n)\n\n# Run the FDTD simulation\nexperiment.run_fdtd()\n\n# Plot the entire experiment setup\nexperiment.plot()"
      ]
    },
    {
      "cell_type": "markdown",
      "metadata": {},
      "source": [
        "Plot the last time frame of the computed fields\n\n"
      ]
    },
    {
      "cell_type": "code",
      "execution_count": null,
      "metadata": {
        "collapsed": false
      },
      "outputs": [],
      "source": [
        "experiment.plot_frame(\n    frame_number=-1,  # Plot the last frame\n    colormap=colormaps.polytechnique.red_black_blue  # Colormap for the plot\n)"
      ]
    },
    {
      "cell_type": "markdown",
      "metadata": {},
      "source": [
        "Save the last time frame as an image\n\n"
      ]
    },
    {
      "cell_type": "code",
      "execution_count": null,
      "metadata": {
        "collapsed": false
      },
      "outputs": [],
      "source": [
        "experiment.save_frame_as_image(\n    frame_number=-1,  # Frame number to save\n    filename='elliptic_scatterer_last_frame.png'  # Filename for the image\n)"
      ]
    },
    {
      "cell_type": "markdown",
      "metadata": {},
      "source": [
        "Render an animation of the field propagation over time\n\n"
      ]
    },
    {
      "cell_type": "code",
      "execution_count": null,
      "metadata": {
        "collapsed": false
      },
      "outputs": [],
      "source": [
        "animation = experiment.render_propagation(\n    skip_frame=5,                            # Number of frames to skip in the animation\n    unit_size=5,                             # Size of each unit in the animation\n    colormap=colormaps.polytechnique.red_black_blue  # Colormap for the animation\n)\n\n# Save the animation as a GIF file\nanimation.save('./elliptic_scatterer_propagation.gif', writer='Pillow', fps=10)"
      ]
    }
  ],
  "metadata": {
    "kernelspec": {
      "display_name": "Python 3",
      "language": "python",
      "name": "python3"
    },
    "language_info": {
      "codemirror_mode": {
        "name": "ipython",
        "version": 3
      },
      "file_extension": ".py",
      "mimetype": "text/x-python",
      "name": "python",
      "nbconvert_exporter": "python",
      "pygments_lexer": "ipython3",
      "version": "3.11.0"
    }
  },
  "nbformat": 4,
  "nbformat_minor": 0
}